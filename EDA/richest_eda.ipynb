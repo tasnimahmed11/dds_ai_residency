{
 "cells": [
  {
   "cell_type": "markdown",
   "metadata": {},
   "source": [
    "## Who is the richest?"
   ]
  },
  {
   "cell_type": "markdown",
   "metadata": {},
   "source": [
    "### Goal of this assignment: \n",
    "Parse the file and answer the following questions: \n",
    "1. Who is the richest in this list?\n",
    "2. How many people are without an email?\n",
    "3. How many people are without phone numbers?"
   ]
  },
  {
   "cell_type": "code",
   "execution_count": 22,
   "metadata": {},
   "outputs": [],
   "source": [
    "import pandas as pd"
   ]
  },
  {
   "cell_type": "code",
   "execution_count": 23,
   "metadata": {},
   "outputs": [],
   "source": [
    "# Load the file as a dataframe\n",
    "data = pd.read_excel('richest_people.xlsx')"
   ]
  },
  {
   "cell_type": "code",
   "execution_count": 24,
   "metadata": {},
   "outputs": [
    {
     "data": {
      "text/html": [
       "<div>\n",
       "<style scoped>\n",
       "    .dataframe tbody tr th:only-of-type {\n",
       "        vertical-align: middle;\n",
       "    }\n",
       "\n",
       "    .dataframe tbody tr th {\n",
       "        vertical-align: top;\n",
       "    }\n",
       "\n",
       "    .dataframe thead th {\n",
       "        text-align: right;\n",
       "    }\n",
       "</style>\n",
       "<table border=\"1\" class=\"dataframe\">\n",
       "  <thead>\n",
       "    <tr style=\"text-align: right;\">\n",
       "      <th></th>\n",
       "      <th>Name</th>\n",
       "      <th>Email</th>\n",
       "      <th>Website</th>\n",
       "      <th>Phone Number</th>\n",
       "      <th>Net Worth</th>\n",
       "    </tr>\n",
       "  </thead>\n",
       "  <tbody>\n",
       "    <tr>\n",
       "      <th>0</th>\n",
       "      <td>Anna Jenkins</td>\n",
       "      <td>NaN</td>\n",
       "      <td>http://tran.com/</td>\n",
       "      <td>NaN</td>\n",
       "      <td>$74 billion</td>\n",
       "    </tr>\n",
       "    <tr>\n",
       "      <th>1</th>\n",
       "      <td>Nishith Wadhwa</td>\n",
       "      <td>vsachdeva@gmail.com</td>\n",
       "      <td>http://thaker.com/</td>\n",
       "      <td>4726597841</td>\n",
       "      <td>$66 billion</td>\n",
       "    </tr>\n",
       "    <tr>\n",
       "      <th>2</th>\n",
       "      <td>Gerd SÃ¸rensen</td>\n",
       "      <td>arild80@hotmail.com</td>\n",
       "      <td>http://antonsen.com/</td>\n",
       "      <td>+47 32 90 93 83</td>\n",
       "      <td>$74 billion</td>\n",
       "    </tr>\n",
       "    <tr>\n",
       "      <th>3</th>\n",
       "      <td>çŽ‹è¶…</td>\n",
       "      <td>hgu@gmail.com</td>\n",
       "      <td>http://www.73.net/</td>\n",
       "      <td>18099330306</td>\n",
       "      <td>$123 billion</td>\n",
       "    </tr>\n",
       "    <tr>\n",
       "      <th>4</th>\n",
       "      <td>ìž„í˜„ì •</td>\n",
       "      <td>jeonghocoe@hanmail.net</td>\n",
       "      <td>https://jusighoesa.com/</td>\n",
       "      <td>NaN</td>\n",
       "      <td>$126 billion</td>\n",
       "    </tr>\n",
       "    <tr>\n",
       "      <th>5</th>\n",
       "      <td>ç”°ä¸­ é‡Œä½³</td>\n",
       "      <td>NaN</td>\n",
       "      <td>https://tanaka.net/</td>\n",
       "      <td>070-8821-2415</td>\n",
       "      <td>$144 billion</td>\n",
       "    </tr>\n",
       "    <tr>\n",
       "      <th>6</th>\n",
       "      <td>Deanna Bender</td>\n",
       "      <td>rvasquez@gmail.com</td>\n",
       "      <td>https://arnold.net/</td>\n",
       "      <td>4839936016</td>\n",
       "      <td>$90 billion</td>\n",
       "    </tr>\n",
       "    <tr>\n",
       "      <th>7</th>\n",
       "      <td>Kavya Kalla</td>\n",
       "      <td>nmann@gmail.com</td>\n",
       "      <td>http://www.shere.com/</td>\n",
       "      <td>2357487988</td>\n",
       "      <td>$148 billion</td>\n",
       "    </tr>\n",
       "    <tr>\n",
       "      <th>8</th>\n",
       "      <td>Grete Jacobsen</td>\n",
       "      <td>johannessenjenny@yahoo.com</td>\n",
       "      <td>http://tveit.com/</td>\n",
       "      <td>NaN</td>\n",
       "      <td>$42 billion</td>\n",
       "    </tr>\n",
       "    <tr>\n",
       "      <th>9</th>\n",
       "      <td>æž—æ¡‚è‹±</td>\n",
       "      <td>linjun@hotmail.com</td>\n",
       "      <td>http://qiang.cn/</td>\n",
       "      <td>13609064748</td>\n",
       "      <td>$56 billion</td>\n",
       "    </tr>\n",
       "  </tbody>\n",
       "</table>\n",
       "</div>"
      ],
      "text/plain": [
       "             Name                       Email                  Website  \\\n",
       "0    Anna Jenkins                         NaN         http://tran.com/   \n",
       "1  Nishith Wadhwa         vsachdeva@gmail.com       http://thaker.com/   \n",
       "2  Gerd SÃ¸rensen         arild80@hotmail.com     http://antonsen.com/   \n",
       "3          çŽ‹è¶…               hgu@gmail.com       http://www.73.net/   \n",
       "4       ìž„í˜„ì •      jeonghocoe@hanmail.net  https://jusighoesa.com/   \n",
       "5   ç”°ä¸­ é‡Œä½³                         NaN      https://tanaka.net/   \n",
       "6   Deanna Bender          rvasquez@gmail.com      https://arnold.net/   \n",
       "7     Kavya Kalla             nmann@gmail.com    http://www.shere.com/   \n",
       "8  Grete Jacobsen  johannessenjenny@yahoo.com        http://tveit.com/   \n",
       "9       æž—æ¡‚è‹±          linjun@hotmail.com         http://qiang.cn/   \n",
       "\n",
       "      Phone Number     Net Worth  \n",
       "0              NaN   $74 billion  \n",
       "1       4726597841   $66 billion  \n",
       "2  +47 32 90 93 83   $74 billion  \n",
       "3      18099330306  $123 billion  \n",
       "4              NaN  $126 billion  \n",
       "5    070-8821-2415  $144 billion  \n",
       "6       4839936016   $90 billion  \n",
       "7       2357487988  $148 billion  \n",
       "8              NaN   $42 billion  \n",
       "9      13609064748   $56 billion  "
      ]
     },
     "execution_count": 24,
     "metadata": {},
     "output_type": "execute_result"
    }
   ],
   "source": [
    "data.head(10)"
   ]
  },
  {
   "cell_type": "code",
   "execution_count": 25,
   "metadata": {},
   "outputs": [
    {
     "data": {
      "text/plain": [
       "Index(['Name', 'Email', 'Website', 'Phone Number', 'Net Worth'], dtype='object')"
      ]
     },
     "execution_count": 25,
     "metadata": {},
     "output_type": "execute_result"
    }
   ],
   "source": [
    "data.columns"
   ]
  },
  {
   "cell_type": "code",
   "execution_count": 26,
   "metadata": {},
   "outputs": [
    {
     "name": "stdout",
     "output_type": "stream",
     "text": [
      "<class 'pandas.core.frame.DataFrame'>\n",
      "RangeIndex: 50 entries, 0 to 49\n",
      "Data columns (total 5 columns):\n",
      " #   Column        Non-Null Count  Dtype \n",
      "---  ------        --------------  ----- \n",
      " 0   Name          50 non-null     object\n",
      " 1   Email         40 non-null     object\n",
      " 2   Website       50 non-null     object\n",
      " 3   Phone Number  37 non-null     object\n",
      " 4   Net Worth     50 non-null     object\n",
      "dtypes: object(5)\n",
      "memory usage: 2.1+ KB\n"
     ]
    }
   ],
   "source": [
    "data.info()"
   ]
  },
  {
   "cell_type": "markdown",
   "metadata": {},
   "source": [
    "### Who is the richest?"
   ]
  },
  {
   "cell_type": "code",
   "execution_count": 30,
   "metadata": {},
   "outputs": [],
   "source": [
    "# extract the value (as float) from the net worth\n",
    "\n",
    "def apply_scale(net_worth):\n",
    "    if 'billion' in net_worth:\n",
    "        return float(net_worth.replace('$', '').replace(' billion', '')) * 1e9\n",
    "    elif 'million' in net_worth:\n",
    "        return float(net_worth.replace('$', '').replace(' million', '')) * 1e6\n",
    "    else: \n",
    "        return  net_worth.replace('$', '')\n",
    "\n",
    "data['Net Worth Value'] = data['Net Worth'].apply(apply_scale)"
   ]
  },
  {
   "cell_type": "code",
   "execution_count": 31,
   "metadata": {},
   "outputs": [
    {
     "data": {
      "text/html": [
       "<div>\n",
       "<style scoped>\n",
       "    .dataframe tbody tr th:only-of-type {\n",
       "        vertical-align: middle;\n",
       "    }\n",
       "\n",
       "    .dataframe tbody tr th {\n",
       "        vertical-align: top;\n",
       "    }\n",
       "\n",
       "    .dataframe thead th {\n",
       "        text-align: right;\n",
       "    }\n",
       "</style>\n",
       "<table border=\"1\" class=\"dataframe\">\n",
       "  <thead>\n",
       "    <tr style=\"text-align: right;\">\n",
       "      <th></th>\n",
       "      <th>Name</th>\n",
       "      <th>Email</th>\n",
       "      <th>Website</th>\n",
       "      <th>Phone Number</th>\n",
       "      <th>Net Worth</th>\n",
       "      <th>Net Worth Value</th>\n",
       "    </tr>\n",
       "  </thead>\n",
       "  <tbody>\n",
       "    <tr>\n",
       "      <th>0</th>\n",
       "      <td>Anna Jenkins</td>\n",
       "      <td>NaN</td>\n",
       "      <td>http://tran.com/</td>\n",
       "      <td>NaN</td>\n",
       "      <td>$74 billion</td>\n",
       "      <td>7.400000e+10</td>\n",
       "    </tr>\n",
       "    <tr>\n",
       "      <th>1</th>\n",
       "      <td>Nishith Wadhwa</td>\n",
       "      <td>vsachdeva@gmail.com</td>\n",
       "      <td>http://thaker.com/</td>\n",
       "      <td>4726597841</td>\n",
       "      <td>$66 billion</td>\n",
       "      <td>6.600000e+10</td>\n",
       "    </tr>\n",
       "    <tr>\n",
       "      <th>2</th>\n",
       "      <td>Gerd SÃ¸rensen</td>\n",
       "      <td>arild80@hotmail.com</td>\n",
       "      <td>http://antonsen.com/</td>\n",
       "      <td>+47 32 90 93 83</td>\n",
       "      <td>$74 billion</td>\n",
       "      <td>7.400000e+10</td>\n",
       "    </tr>\n",
       "    <tr>\n",
       "      <th>3</th>\n",
       "      <td>çŽ‹è¶…</td>\n",
       "      <td>hgu@gmail.com</td>\n",
       "      <td>http://www.73.net/</td>\n",
       "      <td>18099330306</td>\n",
       "      <td>$123 billion</td>\n",
       "      <td>1.230000e+11</td>\n",
       "    </tr>\n",
       "    <tr>\n",
       "      <th>4</th>\n",
       "      <td>ìž„í˜„ì •</td>\n",
       "      <td>jeonghocoe@hanmail.net</td>\n",
       "      <td>https://jusighoesa.com/</td>\n",
       "      <td>NaN</td>\n",
       "      <td>$126 billion</td>\n",
       "      <td>1.260000e+11</td>\n",
       "    </tr>\n",
       "  </tbody>\n",
       "</table>\n",
       "</div>"
      ],
      "text/plain": [
       "             Name                   Email                  Website  \\\n",
       "0    Anna Jenkins                     NaN         http://tran.com/   \n",
       "1  Nishith Wadhwa     vsachdeva@gmail.com       http://thaker.com/   \n",
       "2  Gerd SÃ¸rensen     arild80@hotmail.com     http://antonsen.com/   \n",
       "3          çŽ‹è¶…           hgu@gmail.com       http://www.73.net/   \n",
       "4       ìž„í˜„ì •  jeonghocoe@hanmail.net  https://jusighoesa.com/   \n",
       "\n",
       "      Phone Number     Net Worth  Net Worth Value  \n",
       "0              NaN   $74 billion     7.400000e+10  \n",
       "1       4726597841   $66 billion     6.600000e+10  \n",
       "2  +47 32 90 93 83   $74 billion     7.400000e+10  \n",
       "3      18099330306  $123 billion     1.230000e+11  \n",
       "4              NaN  $126 billion     1.260000e+11  "
      ]
     },
     "execution_count": 31,
     "metadata": {},
     "output_type": "execute_result"
    }
   ],
   "source": [
    "data.head()"
   ]
  },
  {
   "cell_type": "code",
   "execution_count": 37,
   "metadata": {},
   "outputs": [
    {
     "name": "stdout",
     "output_type": "stream",
     "text": [
      "éˆ´æœ¨ çŸ¥å®Ÿ is the richest person\n"
     ]
    }
   ],
   "source": [
    "# find the max value in the net worth value column\n",
    "# use the index of that value to locate which person is the richest\n",
    "\n",
    "print(\"{} is the richest person\".format(data.nlargest(1, 'Net Worth Value')['Name'].values[0]))\n"
   ]
  },
  {
   "cell_type": "code",
   "execution_count": 51,
   "metadata": {},
   "outputs": [
    {
     "name": "stdout",
     "output_type": "stream",
     "text": [
      "196000000000.0\n",
      "35\n"
     ]
    },
    {
     "data": {
      "text/html": [
       "<div>\n",
       "<style scoped>\n",
       "    .dataframe tbody tr th:only-of-type {\n",
       "        vertical-align: middle;\n",
       "    }\n",
       "\n",
       "    .dataframe tbody tr th {\n",
       "        vertical-align: top;\n",
       "    }\n",
       "\n",
       "    .dataframe thead th {\n",
       "        text-align: right;\n",
       "    }\n",
       "</style>\n",
       "<table border=\"1\" class=\"dataframe\">\n",
       "  <thead>\n",
       "    <tr style=\"text-align: right;\">\n",
       "      <th></th>\n",
       "      <th>Name</th>\n",
       "      <th>Email</th>\n",
       "      <th>Website</th>\n",
       "      <th>Phone Number</th>\n",
       "      <th>Net Worth</th>\n",
       "      <th>Net Worth Value</th>\n",
       "    </tr>\n",
       "  </thead>\n",
       "  <tbody>\n",
       "    <tr>\n",
       "      <th>35</th>\n",
       "      <td>éˆ´æœ¨ çŸ¥å®Ÿ</td>\n",
       "      <td>NaN</td>\n",
       "      <td>http://kondo.com/</td>\n",
       "      <td>070-8335-7090</td>\n",
       "      <td>$196 billion</td>\n",
       "      <td>1.960000e+11</td>\n",
       "    </tr>\n",
       "  </tbody>\n",
       "</table>\n",
       "</div>"
      ],
      "text/plain": [
       "             Name Email            Website   Phone Number     Net Worth  \\\n",
       "35  éˆ´æœ¨ çŸ¥å®Ÿ   NaN  http://kondo.com/  070-8335-7090  $196 billion   \n",
       "\n",
       "    Net Worth Value  \n",
       "35     1.960000e+11  "
      ]
     },
     "execution_count": 51,
     "metadata": {},
     "output_type": "execute_result"
    }
   ],
   "source": [
    "# Trying a lengthier approach for practice purposes\n",
    "\n",
    "print(data['Net Worth Value'].max())\n",
    "print(data[['Net Worth Value']].idxmax().values[0])\n",
    "data.iloc[[data[['Net Worth Value']].idxmax().values[0]]]\n"
   ]
  },
  {
   "cell_type": "markdown",
   "metadata": {},
   "source": [
    "### How many people are without an email?"
   ]
  },
  {
   "cell_type": "code",
   "execution_count": 40,
   "metadata": {},
   "outputs": [
    {
     "name": "stdout",
     "output_type": "stream",
     "text": [
      "There are 10 people with no email\n"
     ]
    }
   ],
   "source": [
    "print(\"There are {} people with no email\".format(data['Email'].isna().sum()))"
   ]
  },
  {
   "cell_type": "markdown",
   "metadata": {},
   "source": [
    "### How many people are without phone numbers?"
   ]
  },
  {
   "cell_type": "code",
   "execution_count": 41,
   "metadata": {},
   "outputs": [
    {
     "name": "stdout",
     "output_type": "stream",
     "text": [
      "There are 13 people with no email\n"
     ]
    }
   ],
   "source": [
    "print(\"There are {} people with no email\".format(data['Phone Number'].isna().sum()))"
   ]
  }
 ],
 "metadata": {
  "kernelspec": {
   "display_name": "base",
   "language": "python",
   "name": "python3"
  },
  "language_info": {
   "codemirror_mode": {
    "name": "ipython",
    "version": 3
   },
   "file_extension": ".py",
   "mimetype": "text/x-python",
   "name": "python",
   "nbconvert_exporter": "python",
   "pygments_lexer": "ipython3",
   "version": "3.1.-1"
  }
 },
 "nbformat": 4,
 "nbformat_minor": 2
}
