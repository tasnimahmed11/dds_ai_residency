{
 "cells": [
  {
   "cell_type": "markdown",
   "metadata": {},
   "source": [
    "## Unicorn Companies Analysis"
   ]
  },
  {
   "cell_type": "markdown",
   "metadata": {},
   "source": [
    "### Data Cleaning and Preprocessing\n",
    "- Load the dataset: Read the CSV file into a pandas DataFrame.\n",
    "- Data types conversion: Convert appropriate columns to their respective data types (e.g., 'Valuation ($B)' to float, 'Date Joined' to datetime).\n",
    "- Handle missing values: Decide on a strategy to handle missing values (e.g., remove rows, fill with a placeholder)."
   ]
  },
  {
   "cell_type": "code",
   "execution_count": 1,
   "metadata": {},
   "outputs": [],
   "source": [
    "import pandas as pd"
   ]
  },
  {
   "cell_type": "code",
   "execution_count": 2,
   "metadata": {},
   "outputs": [],
   "source": [
    "df = pd.read_csv(\"Unicorn_Companies.csv\")"
   ]
  },
  {
   "cell_type": "code",
   "execution_count": 3,
   "metadata": {},
   "outputs": [
    {
     "data": {
      "text/html": [
       "<div>\n",
       "<style scoped>\n",
       "    .dataframe tbody tr th:only-of-type {\n",
       "        vertical-align: middle;\n",
       "    }\n",
       "\n",
       "    .dataframe tbody tr th {\n",
       "        vertical-align: top;\n",
       "    }\n",
       "\n",
       "    .dataframe thead th {\n",
       "        text-align: right;\n",
       "    }\n",
       "</style>\n",
       "<table border=\"1\" class=\"dataframe\">\n",
       "  <thead>\n",
       "    <tr style=\"text-align: right;\">\n",
       "      <th></th>\n",
       "      <th>Company</th>\n",
       "      <th>Valuation ($B)</th>\n",
       "      <th>Date Joined</th>\n",
       "      <th>Country</th>\n",
       "      <th>City</th>\n",
       "      <th>Industry</th>\n",
       "      <th>Select Inverstors</th>\n",
       "      <th>Founded Year</th>\n",
       "      <th>Total Raised</th>\n",
       "      <th>Financial Stage</th>\n",
       "      <th>Investors Count</th>\n",
       "      <th>Deal Terms</th>\n",
       "      <th>Portfolio Exits</th>\n",
       "    </tr>\n",
       "  </thead>\n",
       "  <tbody>\n",
       "    <tr>\n",
       "      <th>0</th>\n",
       "      <td>Bytedance</td>\n",
       "      <td>$140</td>\n",
       "      <td>4/7/2017</td>\n",
       "      <td>China</td>\n",
       "      <td>Beijing</td>\n",
       "      <td>Artificial intelligence</td>\n",
       "      <td>Sequoia Capital China, SIG Asia Investments, S...</td>\n",
       "      <td>2012.0</td>\n",
       "      <td>$7.44B</td>\n",
       "      <td>IPO</td>\n",
       "      <td>28.0</td>\n",
       "      <td>8.0</td>\n",
       "      <td>5.0</td>\n",
       "    </tr>\n",
       "    <tr>\n",
       "      <th>1</th>\n",
       "      <td>SpaceX</td>\n",
       "      <td>$100.30</td>\n",
       "      <td>12/1/2012</td>\n",
       "      <td>United States</td>\n",
       "      <td>Hawthorne</td>\n",
       "      <td>Other</td>\n",
       "      <td>Founders Fund, Draper Fisher Jurvetson, Rothen...</td>\n",
       "      <td>2002.0</td>\n",
       "      <td>$6.874B</td>\n",
       "      <td>NaN</td>\n",
       "      <td>29.0</td>\n",
       "      <td>12.0</td>\n",
       "      <td>NaN</td>\n",
       "    </tr>\n",
       "    <tr>\n",
       "      <th>2</th>\n",
       "      <td>Stripe</td>\n",
       "      <td>$95</td>\n",
       "      <td>1/23/2014</td>\n",
       "      <td>United States</td>\n",
       "      <td>San Francisco</td>\n",
       "      <td>Fintech</td>\n",
       "      <td>Khosla Ventures, LowercaseCapital, capitalG</td>\n",
       "      <td>2010.0</td>\n",
       "      <td>$2.901B</td>\n",
       "      <td>Asset</td>\n",
       "      <td>39.0</td>\n",
       "      <td>12.0</td>\n",
       "      <td>1.0</td>\n",
       "    </tr>\n",
       "    <tr>\n",
       "      <th>3</th>\n",
       "      <td>Klarna</td>\n",
       "      <td>$45.60</td>\n",
       "      <td>12/12/2011</td>\n",
       "      <td>Sweden</td>\n",
       "      <td>Stockholm</td>\n",
       "      <td>Fintech</td>\n",
       "      <td>Institutional Venture Partners, Sequoia Capita...</td>\n",
       "      <td>2005.0</td>\n",
       "      <td>$3.472B</td>\n",
       "      <td>Acquired</td>\n",
       "      <td>56.0</td>\n",
       "      <td>13.0</td>\n",
       "      <td>1.0</td>\n",
       "    </tr>\n",
       "    <tr>\n",
       "      <th>4</th>\n",
       "      <td>Epic Games</td>\n",
       "      <td>$42</td>\n",
       "      <td>10/26/2018</td>\n",
       "      <td>United States</td>\n",
       "      <td>Cary</td>\n",
       "      <td>Other</td>\n",
       "      <td>Tencent Holdings, KKR, Smash Ventures</td>\n",
       "      <td>1991.0</td>\n",
       "      <td>$4.377B</td>\n",
       "      <td>Acquired</td>\n",
       "      <td>25.0</td>\n",
       "      <td>5.0</td>\n",
       "      <td>2.0</td>\n",
       "    </tr>\n",
       "  </tbody>\n",
       "</table>\n",
       "</div>"
      ],
      "text/plain": [
       "      Company Valuation ($B) Date Joined        Country           City  \\\n",
       "0   Bytedance          $140     4/7/2017          China        Beijing   \n",
       "1      SpaceX       $100.30    12/1/2012  United States      Hawthorne   \n",
       "2      Stripe           $95    1/23/2014  United States  San Francisco   \n",
       "3      Klarna        $45.60   12/12/2011         Sweden      Stockholm   \n",
       "4  Epic Games           $42   10/26/2018  United States           Cary   \n",
       "\n",
       "                  Industry                                  Select Inverstors  \\\n",
       "0  Artificial intelligence  Sequoia Capital China, SIG Asia Investments, S...   \n",
       "1                    Other  Founders Fund, Draper Fisher Jurvetson, Rothen...   \n",
       "2                  Fintech        Khosla Ventures, LowercaseCapital, capitalG   \n",
       "3                  Fintech  Institutional Venture Partners, Sequoia Capita...   \n",
       "4                    Other              Tencent Holdings, KKR, Smash Ventures   \n",
       "\n",
       "   Founded Year Total Raised Financial Stage  Investors Count  Deal Terms  \\\n",
       "0        2012.0       $7.44B             IPO             28.0         8.0   \n",
       "1        2002.0      $6.874B             NaN             29.0        12.0   \n",
       "2        2010.0      $2.901B           Asset             39.0        12.0   \n",
       "3        2005.0      $3.472B        Acquired             56.0        13.0   \n",
       "4        1991.0      $4.377B        Acquired             25.0         5.0   \n",
       "\n",
       "   Portfolio Exits  \n",
       "0              5.0  \n",
       "1              NaN  \n",
       "2              1.0  \n",
       "3              1.0  \n",
       "4              2.0  "
      ]
     },
     "execution_count": 3,
     "metadata": {},
     "output_type": "execute_result"
    }
   ],
   "source": [
    "df.head()"
   ]
  },
  {
   "cell_type": "code",
   "execution_count": 7,
   "metadata": {},
   "outputs": [
    {
     "data": {
      "text/plain": [
       "(1037, 13)"
      ]
     },
     "execution_count": 7,
     "metadata": {},
     "output_type": "execute_result"
    }
   ],
   "source": [
    "df.shape"
   ]
  },
  {
   "cell_type": "code",
   "execution_count": 6,
   "metadata": {},
   "outputs": [
    {
     "name": "stdout",
     "output_type": "stream",
     "text": [
      "<class 'pandas.core.frame.DataFrame'>\n",
      "RangeIndex: 1037 entries, 0 to 1036\n",
      "Data columns (total 13 columns):\n",
      " #   Column             Non-Null Count  Dtype  \n",
      "---  ------             --------------  -----  \n",
      " 0   Company            1037 non-null   object \n",
      " 1   Valuation ($B)     1037 non-null   object \n",
      " 2   Date Joined        1037 non-null   object \n",
      " 3   Country            1037 non-null   object \n",
      " 4   City               1037 non-null   object \n",
      " 5   Industry           1037 non-null   object \n",
      " 6   Select Inverstors  1020 non-null   object \n",
      " 7   Founded Year       994 non-null    float64\n",
      " 8   Total Raised       1013 non-null   object \n",
      " 9   Financial Stage    49 non-null     object \n",
      " 10  Investors Count    1036 non-null   float64\n",
      " 11  Deal Terms         1008 non-null   float64\n",
      " 12  Portfolio Exits    49 non-null     float64\n",
      "dtypes: float64(4), object(9)\n",
      "memory usage: 105.4+ KB\n"
     ]
    }
   ],
   "source": [
    "df.info()"
   ]
  },
  {
   "cell_type": "markdown",
   "metadata": {},
   "source": [
    "#### Data Type Conversion \n",
    "- Valuation -> float\n",
    "- Date Joined -> Date & Timr\n",
    "- Founded Year -> ?\n",
    "- Total Raised -> ?\n",
    "- Investors Count -> ?  # check if there is any value that is not an int - if not then convert this to integer\n",
    "- "
   ]
  },
  {
   "cell_type": "code",
   "execution_count": null,
   "metadata": {},
   "outputs": [],
   "source": []
  },
  {
   "cell_type": "markdown",
   "metadata": {},
   "source": [
    "#### Data Cleaning\n",
    "- Fixing null cells"
   ]
  },
  {
   "cell_type": "markdown",
   "metadata": {},
   "source": [
    "#### Answer the following questions:\n",
    "\n",
    "1. Highest Valuation: Which company has the highest valuation in the dataset?\n",
    "2. Missing 'Founded Year': How many companies do not have a 'Founded Year' recorded in the dataset?\n",
    "3. No Listed Investors: How many companies do not have any investors listed in the 'Select Investors' column?\n",
    "4. Most Unicorns by Country: Which country has the highest number of unicorn companies?\n",
    "5. Founded After 2010: How many companies were founded after the year 2010?\n",
    "6. Average Valuation by Industry: What is the average valuation of unicorn companies in each industry?\n",
    "7. Top 5 Cities: Which are the top 5 cities with the highest number of unicorn companies?\n",
    "8. Financial Stage Distribution: What is the distribution of companies across different financial stages?\n",
    "9. Most Portfolio Exits: Which companies have the most portfolio exits?\n",
    "10. Valuation and Total Raised Correlation: What is the correlation between 'Valuation ($B)' and 'Total Raised'?"
   ]
  },
  {
   "cell_type": "code",
   "execution_count": null,
   "metadata": {},
   "outputs": [],
   "source": []
  }
 ],
 "metadata": {
  "kernelspec": {
   "display_name": "base",
   "language": "python",
   "name": "python3"
  },
  "language_info": {
   "codemirror_mode": {
    "name": "ipython",
    "version": 3
   },
   "file_extension": ".py",
   "mimetype": "text/x-python",
   "name": "python",
   "nbconvert_exporter": "python",
   "pygments_lexer": "ipython3",
   "version": "3.11.9"
  }
 },
 "nbformat": 4,
 "nbformat_minor": 2
}
