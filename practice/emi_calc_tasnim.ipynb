{
 "cells": [
  {
   "cell_type": "markdown",
   "metadata": {},
   "source": [
    "### EMI Calculator"
   ]
  },
  {
   "cell_type": "code",
   "execution_count": 8,
   "metadata": {},
   "outputs": [],
   "source": [
    "def loan_emi(amount, duration, rate, down_payment=0):\n",
    "    loan_amount = amount - down_payment\n",
    "    rate = rate / 12 / 100  # Convert annual interest rate to monthly rate (in decimals)\n",
    "    emi_num = loan_amount * rate * ((1 + rate)**duration)  # numerator of the function\n",
    "    emi_den = ((1 + rate)**duration) - 1                   # denominator of the function\n",
    "    emi = emi_num / emi_den\n",
    "    return round(emi, 2)\n"
   ]
  },
  {
   "cell_type": "code",
   "execution_count": 14,
   "metadata": {},
   "outputs": [
    {
     "data": {
      "text/plain": [
       "1467.63"
      ]
     },
     "execution_count": 14,
     "metadata": {},
     "output_type": "execute_result"
    }
   ],
   "source": [
    "# Testing the function\n",
    "loan_emi(10000, 12, 120, 0) # 12 months, 120% per year (testing the sample case)"
   ]
  },
  {
   "cell_type": "code",
   "execution_count": 18,
   "metadata": {},
   "outputs": [],
   "source": [
    "# Ask user for input\n",
    "p_amount = float(input(\"Enter your loan amount: \"))\n",
    "down_payment = float(input(\"Enter the down payment amount (if any): \"))\n",
    "rate = float(input(\"Enter your annual interest rate per year (%): \"))\n",
    "duration = int(input(\"Enter the time duration (months): \"))\n"
   ]
  },
  {
   "cell_type": "code",
   "execution_count": 19,
   "metadata": {},
   "outputs": [
    {
     "name": "stdout",
     "output_type": "stream",
     "text": [
      "Monthly EMI: $1467.63\n"
     ]
    }
   ],
   "source": [
    "# Print the result\n",
    "emi = loan_emi(p_amount, duration, rate, down_payment)\n",
    "print(\"Monthly EMI: ${}\".format(emi))"
   ]
  }
 ],
 "metadata": {
  "kernelspec": {
   "display_name": "base",
   "language": "python",
   "name": "python3"
  },
  "language_info": {
   "codemirror_mode": {
    "name": "ipython",
    "version": 3
   },
   "file_extension": ".py",
   "mimetype": "text/x-python",
   "name": "python",
   "nbconvert_exporter": "python",
   "pygments_lexer": "ipython3",
   "version": "3.8.19"
  }
 },
 "nbformat": 4,
 "nbformat_minor": 2
}
