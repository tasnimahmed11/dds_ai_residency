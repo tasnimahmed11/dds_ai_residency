{
 "cells": [
  {
   "cell_type": "markdown",
   "metadata": {},
   "source": [
    "## Numpy Practice"
   ]
  },
  {
   "cell_type": "code",
   "execution_count": 2,
   "metadata": {},
   "outputs": [],
   "source": [
    "# import the package\n",
    "import numpy as np"
   ]
  },
  {
   "cell_type": "markdown",
   "metadata": {},
   "source": [
    "### Transpose"
   ]
  },
  {
   "cell_type": "code",
   "execution_count": 3,
   "metadata": {},
   "outputs": [
    {
     "name": "stdout",
     "output_type": "stream",
     "text": [
      "Defined array: \n",
      " [[24 16]\n",
      " [30 28]\n",
      " [17 10]\n",
      " [10 32]\n",
      " [40 40]\n",
      " [15 43]\n",
      " [38 14]\n",
      " [17 25]]\n",
      "Shape of original array: (8, 2)\n",
      "Transposed array: \n",
      " [[24 30 17 10 40 15 38 17]\n",
      " [16 28 10 32 40 43 14 25]]\n",
      "Shape of tranposed array: (2, 8)\n"
     ]
    }
   ],
   "source": [
    "# 2D Array\n",
    "\n",
    "dubai = np.array(np.random.randint(10, 45, (8, 2)))\n",
    "print(\"Defined array: \\n\", dubai)\n",
    "print(\"Shape of original array:\", dubai.shape)\n",
    "\n",
    "t_dubai = np.transpose(dubai)\n",
    "print(\"Transposed array: \\n\", t_dubai)\n",
    "print(\"Shape of tranposed array:\", t_dubai.shape)"
   ]
  },
  {
   "cell_type": "code",
   "execution_count": 4,
   "metadata": {},
   "outputs": [
    {
     "name": "stdout",
     "output_type": "stream",
     "text": [
      "Defined array: \n",
      " [[[36 42 33 24]\n",
      "  [20 26 13 30]]\n",
      "\n",
      " [[30 30 15 19]\n",
      "  [17 37 14 35]]\n",
      "\n",
      " [[32 31 15 15]\n",
      "  [42 30 20 39]]]\n",
      "Shape of original array: (3, 2, 4)\n",
      "Transposed array: \n",
      " [[[36 30 32]\n",
      "  [20 17 42]]\n",
      "\n",
      " [[42 30 31]\n",
      "  [26 37 30]]\n",
      "\n",
      " [[33 15 15]\n",
      "  [13 14 20]]\n",
      "\n",
      " [[24 19 15]\n",
      "  [30 35 39]]]\n",
      "Shape of tranposed array: (4, 2, 3)\n"
     ]
    }
   ],
   "source": [
    "# 3D Array\n",
    "\n",
    "arr3d = np.array(np.random.randint(10, 45, (3, 2, 4)))\n",
    "print(\"Defined array: \\n\", arr3d)\n",
    "print(\"Shape of original array:\", arr3d.shape)\n",
    "\n",
    "t_arr3d = np.transpose(arr3d)\n",
    "print(\"Transposed array: \\n\", t_arr3d)\n",
    "print(\"Shape of tranposed array:\", t_arr3d.shape)"
   ]
  },
  {
   "cell_type": "markdown",
   "metadata": {},
   "source": [
    "### Reshape"
   ]
  },
  {
   "cell_type": "code",
   "execution_count": 5,
   "metadata": {},
   "outputs": [
    {
     "name": "stdout",
     "output_type": "stream",
     "text": [
      "Defined array: \n",
      " [[10 29 38 17 26 20 19 25]\n",
      " [43 28 39 32 28 41 26 42]\n",
      " [21 33 23 18 29 18 32 41]]\n",
      "Shape of defined array: (3, 8)\n"
     ]
    }
   ],
   "source": [
    "random_cohort = np.array(np.random.randint(10, 45, (3, 8)))\n",
    "print(\"Defined array: \\n\", random_cohort)\n",
    "print(\"Shape of defined array:\", random_cohort.shape)"
   ]
  },
  {
   "cell_type": "code",
   "execution_count": 6,
   "metadata": {},
   "outputs": [
    {
     "name": "stdout",
     "output_type": "stream",
     "text": [
      "Reshaped array: \n",
      " [[[10 29]\n",
      "  [38 17]\n",
      "  [26 20]\n",
      "  [19 25]\n",
      "  [43 28]\n",
      "  [39 32]]\n",
      "\n",
      " [[28 41]\n",
      "  [26 42]\n",
      "  [21 33]\n",
      "  [23 18]\n",
      "  [29 18]\n",
      "  [32 41]]]\n",
      "Shape of reshaped array: (2, 6, 2)\n"
     ]
    }
   ],
   "source": [
    "new_shape = (2, 6, 2)\n",
    "reshaped_array = np.reshape(random_cohort, new_shape)\n",
    "print(\"Reshaped array: \\n\", reshaped_array)\n",
    "print(\"Shape of reshaped array:\", reshaped_array.shape)"
   ]
  },
  {
   "cell_type": "code",
   "execution_count": 8,
   "metadata": {},
   "outputs": [
    {
     "name": "stdout",
     "output_type": "stream",
     "text": [
      "Reshaped array: \n",
      " [[[10 29 38 17 26 20]\n",
      "  [19 25 43 28 39 32]]\n",
      "\n",
      " [[28 41 26 42 21 33]\n",
      "  [23 18 29 18 32 41]]]\n",
      "Shape of reshaped array: (2, 2, 6)\n"
     ]
    }
   ],
   "source": [
    "new_shape2 = (2, -1, 6)\n",
    "reshaped_array2 = np.reshape(random_cohort, new_shape2)\n",
    "print(\"Reshaped array: \\n\", reshaped_array2)\n",
    "print(\"Shape of reshaped array:\", reshaped_array2.shape)"
   ]
  },
  {
   "cell_type": "markdown",
   "metadata": {},
   "source": [
    "### Resize"
   ]
  },
  {
   "cell_type": "code",
   "execution_count": 11,
   "metadata": {},
   "outputs": [
    {
     "name": "stdout",
     "output_type": "stream",
     "text": [
      "Defined array: \n",
      " [[[23 16 26 39 31 35]\n",
      "  [32 24 22 41 24 38]\n",
      "  [38 12 16 43 39 24]\n",
      "  [21 28 15 12 10 36]]\n",
      "\n",
      " [[25 42 11 22 10 12]\n",
      "  [16 40 35 16 21 20]\n",
      "  [31 34 12 32 31 12]\n",
      "  [41 22 14 34 10 13]]]\n",
      "Shape of defined array: (2, 4, 6)\n"
     ]
    }
   ],
   "source": [
    "random_3d_cohort = np.array(np.random.randint(10, 45, (2, 4, 6)))\n",
    "print(\"Defined array: \\n\", random_3d_cohort)\n",
    "print(\"Shape of defined array:\", random_3d_cohort.shape)"
   ]
  },
  {
   "cell_type": "code",
   "execution_count": 13,
   "metadata": {},
   "outputs": [
    {
     "name": "stdout",
     "output_type": "stream",
     "text": [
      "Resized array: \n",
      " [[[23 16 26 39 31 35]\n",
      "  [32 24 22 41 24 38]\n",
      "  [38 12 16 43 39 24]]\n",
      "\n",
      " [[21 28 15 12 10 36]\n",
      "  [25 42 11 22 10 12]\n",
      "  [16 40 35 16 21 20]]]\n",
      "Shape of resized array: (2, 3, 6)\n"
     ]
    }
   ],
   "source": [
    "new_shape_res = (2, 3, 6)\n",
    "resized_arr = np.resize(random_3d_cohort, new_shape_res)\n",
    "print(\"Resized array: \\n\", resized_arr)\n",
    "print(\"Shape of resized array:\", resized_arr.shape)"
   ]
  },
  {
   "cell_type": "markdown",
   "metadata": {},
   "source": [
    "## Pandas Practice"
   ]
  },
  {
   "cell_type": "code",
   "execution_count": 1,
   "metadata": {},
   "outputs": [],
   "source": [
    "import pandas as pd"
   ]
  },
  {
   "cell_type": "code",
   "execution_count": null,
   "metadata": {},
   "outputs": [],
   "source": []
  }
 ],
 "metadata": {
  "kernelspec": {
   "display_name": "base",
   "language": "python",
   "name": "python3"
  },
  "language_info": {
   "codemirror_mode": {
    "name": "ipython",
    "version": 3
   },
   "file_extension": ".py",
   "mimetype": "text/x-python",
   "name": "python",
   "nbconvert_exporter": "python",
   "pygments_lexer": "ipython3",
   "version": "3.1.undefined"
  }
 },
 "nbformat": 4,
 "nbformat_minor": 2
}
