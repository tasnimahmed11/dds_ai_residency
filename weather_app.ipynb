{
 "cells": [
  {
   "cell_type": "markdown",
   "metadata": {},
   "source": [
    "# Basic Weather Application (with OpenWeather)"
   ]
  },
  {
   "cell_type": "code",
   "execution_count": 2,
   "metadata": {},
   "outputs": [],
   "source": [
    "import requests"
   ]
  },
  {
   "cell_type": "code",
   "execution_count": 3,
   "metadata": {},
   "outputs": [
    {
     "name": "stdout",
     "output_type": "stream",
     "text": [
      "{'coord': {'lon': 55.27, 'lat': 24.2048}, 'weather': [{'id': 802, 'main': 'Clouds', 'description': 'scattered clouds', 'icon': '03n'}], 'base': 'stations', 'main': {'temp': 38.54, 'feels_like': 39.04, 'temp_min': 38.54, 'temp_max': 38.54, 'pressure': 995, 'humidity': 26, 'sea_level': 995, 'grnd_level': 978}, 'visibility': 10000, 'wind': {'speed': 1.89, 'deg': 337, 'gust': 2.05}, 'clouds': {'all': 36}, 'dt': 1720900746, 'sys': {'type': 1, 'id': 7536, 'country': 'AE', 'sunrise': 1720834745, 'sunset': 1720883392}, 'timezone': 14400, 'id': 292836, 'name': 'Al Jaḩr', 'cod': 200}\n"
     ]
    }
   ],
   "source": [
    "# Testing\n",
    "response = requests.get(\"https://api.openweathermap.org/data/2.5/weather?lat=24.2048&lon=55.27&appid=a3eab9247186d1d705897604fd043b04&units=metric\")\n",
    "print(response.json())"
   ]
  },
  {
   "cell_type": "code",
   "execution_count": 4,
   "metadata": {},
   "outputs": [],
   "source": [
    "# Implementing a dynamic function (value changes with city)\n",
    "def get_weather(city):\n",
    "    url = f'https://api.openweathermap.org/data/2.5/weather?q={city}&appid=a3eab9247186d1d705897604fd043b04&units=metric'\n",
    "\n",
    "    try: \n",
    "        response = requests.get(url)\n",
    "        weather_data = response.json()\n",
    "        temperature = weather_data['main']['temp']\n",
    "        humidity = weather_data['main']['humidity']\n",
    "        max_temp = weather_data['main']['temp_max']\n",
    "        min_temp = weather_data['main']['temp_min']\n",
    "\n",
    "        print(f'Weather in {city}')\n",
    "        print(f'Temperature: {temperature}°C')\n",
    "        print(f'Humidity: {humidity}%')\n",
    "        print(f'Max Temperature: {max_temp}°C')\n",
    "        print(f'Min Temperature: {min_temp}°C')\n",
    "\n",
    "    except requests.exceptions.RequestException: \n",
    "        print('Error occured')"
   ]
  },
  {
   "cell_type": "code",
   "execution_count": 5,
   "metadata": {},
   "outputs": [
    {
     "name": "stdout",
     "output_type": "stream",
     "text": [
      "Weather in Dubai\n",
      "Temperature: 34.14°C\n",
      "Humidity: 70%\n",
      "Max Temperature: 35.16°C\n",
      "Min Temperature: 34.14°C\n"
     ]
    }
   ],
   "source": [
    "# Calling the get_weather function\n",
    "city_name = input(\"Enter the name of the city:\")\n",
    "get_weather(city_name)"
   ]
  }
 ],
 "metadata": {
  "kernelspec": {
   "display_name": "base",
   "language": "python",
   "name": "python3"
  },
  "language_info": {
   "codemirror_mode": {
    "name": "ipython",
    "version": 3
   },
   "file_extension": ".py",
   "mimetype": "text/x-python",
   "name": "python",
   "nbconvert_exporter": "python",
   "pygments_lexer": "ipython3",
   "version": "3.11.9"
  }
 },
 "nbformat": 4,
 "nbformat_minor": 2
}
